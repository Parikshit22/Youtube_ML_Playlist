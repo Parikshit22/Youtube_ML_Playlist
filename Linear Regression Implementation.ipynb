{
 "cells": [
  {
   "cell_type": "code",
   "execution_count": 1,
   "metadata": {},
   "outputs": [],
   "source": [
    "import pandas as pd\n",
    "train = pd.read_csv(\"LR_dataset/train.csv\")"
   ]
  },
  {
   "cell_type": "code",
   "execution_count": 2,
   "metadata": {},
   "outputs": [
    {
     "data": {
      "text/html": [
       "<div>\n",
       "<style scoped>\n",
       "    .dataframe tbody tr th:only-of-type {\n",
       "        vertical-align: middle;\n",
       "    }\n",
       "\n",
       "    .dataframe tbody tr th {\n",
       "        vertical-align: top;\n",
       "    }\n",
       "\n",
       "    .dataframe thead th {\n",
       "        text-align: right;\n",
       "    }\n",
       "</style>\n",
       "<table border=\"1\" class=\"dataframe\">\n",
       "  <thead>\n",
       "    <tr style=\"text-align: right;\">\n",
       "      <th></th>\n",
       "      <th>x</th>\n",
       "      <th>y</th>\n",
       "    </tr>\n",
       "  </thead>\n",
       "  <tbody>\n",
       "    <tr>\n",
       "      <th>0</th>\n",
       "      <td>24.0</td>\n",
       "      <td>21.549452</td>\n",
       "    </tr>\n",
       "    <tr>\n",
       "      <th>1</th>\n",
       "      <td>50.0</td>\n",
       "      <td>47.464463</td>\n",
       "    </tr>\n",
       "    <tr>\n",
       "      <th>2</th>\n",
       "      <td>15.0</td>\n",
       "      <td>17.218656</td>\n",
       "    </tr>\n",
       "    <tr>\n",
       "      <th>3</th>\n",
       "      <td>38.0</td>\n",
       "      <td>36.586398</td>\n",
       "    </tr>\n",
       "    <tr>\n",
       "      <th>4</th>\n",
       "      <td>87.0</td>\n",
       "      <td>87.288984</td>\n",
       "    </tr>\n",
       "  </tbody>\n",
       "</table>\n",
       "</div>"
      ],
      "text/plain": [
       "      x          y\n",
       "0  24.0  21.549452\n",
       "1  50.0  47.464463\n",
       "2  15.0  17.218656\n",
       "3  38.0  36.586398\n",
       "4  87.0  87.288984"
      ]
     },
     "execution_count": 2,
     "metadata": {},
     "output_type": "execute_result"
    }
   ],
   "source": [
    "train.head()"
   ]
  },
  {
   "cell_type": "code",
   "execution_count": 3,
   "metadata": {},
   "outputs": [],
   "source": [
    "train = train[train['y'].notnull()]"
   ]
  },
  {
   "cell_type": "code",
   "execution_count": 4,
   "metadata": {},
   "outputs": [
    {
     "data": {
      "text/plain": [
       "(699, 2)"
      ]
     },
     "execution_count": 4,
     "metadata": {},
     "output_type": "execute_result"
    }
   ],
   "source": [
    "train.shape"
   ]
  },
  {
   "cell_type": "code",
   "execution_count": 5,
   "metadata": {},
   "outputs": [],
   "source": [
    "x_train = train['x'].values\n",
    "y_train = train['y'].values"
   ]
  },
  {
   "cell_type": "code",
   "execution_count": 6,
   "metadata": {},
   "outputs": [],
   "source": [
    "x_train = (x_train-x_train.mean())/x_train.std()"
   ]
  },
  {
   "cell_type": "code",
   "execution_count": 7,
   "metadata": {},
   "outputs": [
    {
     "data": {
      "text/plain": [
       "<Figure size 640x480 with 1 Axes>"
      ]
     },
     "metadata": {},
     "output_type": "display_data"
    }
   ],
   "source": [
    "import matplotlib.pyplot as plt\n",
    "plt.scatter(x_train,y_train)\n",
    "plt.show()"
   ]
  },
  {
   "cell_type": "code",
   "execution_count": 8,
   "metadata": {},
   "outputs": [],
   "source": [
    "import numpy as np"
   ]
  },
  {
   "cell_type": "code",
   "execution_count": 9,
   "metadata": {},
   "outputs": [],
   "source": [
    "def hypothesis(x,theta):\n",
    "    return x*theta[1]+theta[0]\n",
    "\n",
    "def gradiend(X,Y,theta):\n",
    "    grad = np.zeros((2,))\n",
    "    m = X.shape[0]\n",
    "    \n",
    "    for i in range(m):\n",
    "        y_ = hypothesis(X[i],theta)\n",
    "        y = Y[i]\n",
    "        grad[0]+=(y_-y)\n",
    "        grad[1]+=(y_-y)*X[i]\n",
    "     \n",
    "    return grad/m"
   ]
  },
  {
   "cell_type": "code",
   "execution_count": 58,
   "metadata": {},
   "outputs": [],
   "source": [
    "def error(X,Y,theta):\n",
    "    \n",
    "    m = X.shape[0]\n",
    "    e = 0.0\n",
    "    for i in range(m):\n",
    "        y_ = hypothesis(X[i],theta)\n",
    "        y = Y[i]\n",
    "        e+= (y_-y)**2\n",
    "    return e/m\n",
    "\n",
    "def gradient_decent(X,Y,epochs = 100,lr=0.1):\n",
    "    theta = np.zeros((2,))\n",
    "    theta_list = []\n",
    "    error_list = []\n",
    "    for i in range(epochs):\n",
    "        grad = gradiend(X,Y,theta)\n",
    "        e = error(X,Y,theta)\n",
    "        error_list.append(e)\n",
    "        theta[0] = theta[0]- lr*grad[0]\n",
    "        theta[1] = theta[1]- lr*grad[1]\n",
    "        theta_list.append([theta[0],theta[1]])\n",
    "        \n",
    "    return theta,error_list,theta_list"
   ]
  },
  {
   "cell_type": "code",
   "execution_count": 59,
   "metadata": {},
   "outputs": [],
   "source": [
    "theta,error_list,theta_list = gradient_decent(x_train,y_train)"
   ]
  },
  {
   "cell_type": "code",
   "execution_count": 13,
   "metadata": {},
   "outputs": [
    {
     "data": {
      "image/png": "[encoded data removed]",
      "text/plain": [
       "<Figure size 432x288 with 1 Axes>"
      ]
     },
     "metadata": {
      "needs_background": "light"
     },
     "output_type": "display_data"
    }
   ],
   "source": [
    "plt.plot(error_list)\n",
    "plt.show()"
   ]
  },
  {
   "cell_type": "code",
   "execution_count": 60,
   "metadata": {},
   "outputs": [
    {
     "data": {
      "text/plain": [
       "[[4.993986917045777, 2.895283303379383],\n",
       " [9.488575142386978, 5.501038276420828],\n",
       " [13.533704545194059, 7.846217752158128],\n",
       " [17.174321007720437, 9.956879280321699],\n",
       " [20.450875823994174, 11.856474655668912],\n",
       " [23.399775158640534, 13.566110493481405],\n",
       " [26.053784559822258, 15.104782747512647],\n",
       " [28.44239302088581, 16.489587776140766],\n",
       " [30.59214063584301, 17.735912301906076],\n",
       " [32.52691348930449, 18.85760437509485],\n",
       " [34.268209057419824, 19.86712724096475],\n",
       " [35.83537506872362, 20.775697820247657],\n",
       " [37.24582447889704, 21.593411341602277],\n",
       " [38.51522894805312, 22.329353510821434],\n",
       " [39.65769297029359, 22.991701463118673],\n",
       " [40.68591059031001, 23.58781462018619],\n",
       " [41.61130644832479, 24.124316461546957],\n",
       " [42.44416272053809, 24.607168118771646],\n",
       " [43.19373336553006, 25.041734610273867],\n",
       " [43.86834694602283, 25.432844452625865],\n",
       " [44.47549916846633, 25.784843310742662],\n",
       " [45.021936168665476, 26.10164228304778],\n",
       " [45.51372946884471, 26.386761358122385],\n",
       " [45.95634343900602, 26.64336852568953],\n",
       " [46.354696012151194, 26.874314976499964],\n",
       " [46.713213327981855, 27.08216678222935],\n",
       " [47.03587891222945, 27.269233407385798],\n",
       " [47.326277938052286, 27.4375933700266],\n",
       " [47.58763706129284, 27.589117336403326],\n",
       " [47.82286027220933, 27.725488906142377],\n",
       " [48.03456116203418, 27.848223318907525],\n",
       " [48.22509196287654, 27.958684290396157],\n",
       " [48.39656968363467, 28.058099164735925],\n",
       " [48.55089963231698, 28.147572551641716],\n",
       " [48.68979658613106, 28.228098599856928],\n",
       " [48.814803844563734, 28.300572043250618],\n",
       " [48.92731037715314, 28.36579814230494],\n",
       " [49.02856625648361, 28.42450163145383],\n",
       " [49.11969654788103, 28.47733477168783],\n",
       " [49.201713810138706, 28.52488459789843],\n",
       " [49.275529346170615, 28.56767944148797],\n",
       " [49.341963328599334, 28.60619480071856],\n",
       " [49.40175391278518, 28.640858624026087],\n",
       " [49.45556543855244, 28.672056065002863],\n",
       " [49.503995811742975, 28.70013376188196],\n",
       " [49.54758314761445, 28.72540368907315],\n",
       " [49.586811749898786, 28.74814662354522],\n",
       " [49.62211749195469, 28.768615264570084],\n",
       " [49.653892659805, 28.78703704149246],\n",
       " [49.682490310870286, 28.8036166407226],\n",
       " [49.70822819682904, 28.818538280029724],\n",
       " [49.73139229419191, 28.831967755406136],\n",
       " [49.7522399818185, 28.84405428324491],\n",
       " [49.771002900682426, 28.854932158299803],\n",
       " [49.787889527659964, 28.864722245849208],\n",
       " [49.80308749193975, 28.87353332464367],\n",
       " [49.81676565979156, 28.88146329555869],\n",
       " [49.82907601085818, 28.888600269382206],\n",
       " [49.84015532681814, 28.89502354582337],\n",
       " [49.85012671118211, 28.900804494620417],\n",
       " [49.859100957109675, 28.90600734853776],\n",
       " [49.867177778444486, 28.91068991706337],\n",
       " [49.87444691764582, 28.914904228736415],\n",
       " [49.88098914292702, 28.918697109242157],\n",
       " [49.886877145680096, 28.922110701697324],\n",
       " [49.89217634815787, 28.925182934906974],\n",
       " [49.89694563038786, 28.927947944795662],\n",
       " [49.901237984394854, 28.93043645369548],\n",
       " [49.90510110300115, 28.932676111705316],\n",
       " [49.90857790974682, 28.93469180391417],\n",
       " [49.91170703581792, 28.936505926902136],\n",
       " [49.914523249281906, 28.938138637591308],\n",
       " [49.9170578413995, 28.939608077211563],\n",
       " [49.919338974305326, 28.940930572869792],\n",
       " [49.92139199392057, 28.9421208189622],\n",
       " [49.9232397115743, 28.943192040445364],\n",
       " [49.924902657462646, 28.944156139780212],\n",
       " [49.92639930876216, 28.945023829181576],\n",
       " [49.92774629493172, 28.945804749642804],\n",
       " [49.92895858248433, 28.946507578057908],\n",
       " [49.93004964128168, 28.947140123631502],\n",
       " [49.93103159419929, 28.947709414647736],\n",
       " [49.93191535182514, 28.948221776562345],\n",
       " [49.9327107336884, 28.948682902285494],\n",
       " [49.933426577365346, 28.94909791543633],\n",
       " [49.93407083667459, 28.94947142727208],\n",
       " [49.93465067005291, 28.949807587924255],\n",
       " [49.935172520093396, 28.950110132511213],\n",
       " [49.935642185129836, 28.950382422639475],\n",
       " [49.93606488366263, 28.95062748375491],\n",
       " [49.936445312342144, 28.950848038758803],\n",
       " [49.93678769815371, 28.951046538262307],\n",
       " [49.937095845384114, 28.95122518781546],\n",
       " [49.93737317789148, 28.9513859724133],\n",
       " [49.937622777148114, 28.951530678551354],\n",
       " [49.93784741647908, 28.951660914075603],\n",
       " [49.938049591876954, 28.951778126047426],\n",
       " [49.938231549735036, 28.951883616822066],\n",
       " [49.93839531180731, 28.951978558519244],\n",
       " [49.93854269767236, 28.952064006046704]]"
      ]
     },
     "execution_count": 60,
     "metadata": {},
     "output_type": "execute_result"
    }
   ],
   "source": [
    "theta_list"
   ]
  },
  {
   "cell_type": "code",
   "execution_count": 14,
   "metadata": {},
   "outputs": [
    {
     "data": {
      "text/plain": [
       "array([49.9385427 , 28.95206401])"
      ]
     },
     "execution_count": 14,
     "metadata": {},
     "output_type": "execute_result"
    }
   ],
   "source": [
    "theta"
   ]
  },
  {
   "cell_type": "code",
   "execution_count": 15,
   "metadata": {},
   "outputs": [],
   "source": [
    "Y_ = hypothesis(x_train,theta)"
   ]
  },
  {
   "cell_type": "code",
   "execution_count": 16,
   "metadata": {},
   "outputs": [
    {
     "data": {
      "image/png": "[encoded data removed]",
      "text/plain": [
       "<Figure size 432x288 with 1 Axes>"
      ]
     },
     "metadata": {
      "needs_background": "light"
     },
     "output_type": "display_data"
    }
   ],
   "source": [
    "plt.scatter(x_train,y_train)\n",
    "plt.plot(x_train,Y_,color = 'red')\n",
    "plt.show()"
   ]
  },
  {
   "cell_type": "code",
   "execution_count": 17,
   "metadata": {},
   "outputs": [],
   "source": [
    "test = pd.read_csv(\"LR_dataset/test.csv\")"
   ]
  },
  {
   "cell_type": "code",
   "execution_count": 18,
   "metadata": {},
   "outputs": [
    {
     "data": {
      "text/html": [
       "<div>\n",
       "<style scoped>\n",
       "    .dataframe tbody tr th:only-of-type {\n",
       "        vertical-align: middle;\n",
       "    }\n",
       "\n",
       "    .dataframe tbody tr th {\n",
       "        vertical-align: top;\n",
       "    }\n",
       "\n",
       "    .dataframe thead th {\n",
       "        text-align: right;\n",
       "    }\n",
       "</style>\n",
       "<table border=\"1\" class=\"dataframe\">\n",
       "  <thead>\n",
       "    <tr style=\"text-align: right;\">\n",
       "      <th></th>\n",
       "      <th>x</th>\n",
       "      <th>y</th>\n",
       "    </tr>\n",
       "  </thead>\n",
       "  <tbody>\n",
       "    <tr>\n",
       "      <th>0</th>\n",
       "      <td>77</td>\n",
       "      <td>79.775152</td>\n",
       "    </tr>\n",
       "    <tr>\n",
       "      <th>1</th>\n",
       "      <td>21</td>\n",
       "      <td>23.177279</td>\n",
       "    </tr>\n",
       "    <tr>\n",
       "      <th>2</th>\n",
       "      <td>22</td>\n",
       "      <td>25.609262</td>\n",
       "    </tr>\n",
       "    <tr>\n",
       "      <th>3</th>\n",
       "      <td>20</td>\n",
       "      <td>17.857388</td>\n",
       "    </tr>\n",
       "    <tr>\n",
       "      <th>4</th>\n",
       "      <td>36</td>\n",
       "      <td>41.849864</td>\n",
       "    </tr>\n",
       "  </tbody>\n",
       "</table>\n",
       "</div>"
      ],
      "text/plain": [
       "    x          y\n",
       "0  77  79.775152\n",
       "1  21  23.177279\n",
       "2  22  25.609262\n",
       "3  20  17.857388\n",
       "4  36  41.849864"
      ]
     },
     "execution_count": 18,
     "metadata": {},
     "output_type": "execute_result"
    }
   ],
   "source": [
    "test.head()"
   ]
  },
  {
   "cell_type": "code",
   "execution_count": 19,
   "metadata": {},
   "outputs": [
    {
     "data": {
      "text/plain": [
       "x    0\n",
       "y    0\n",
       "dtype: int64"
      ]
     },
     "execution_count": 19,
     "metadata": {},
     "output_type": "execute_result"
    }
   ],
   "source": [
    "test.isnull().sum()"
   ]
  },
  {
   "cell_type": "code",
   "execution_count": 20,
   "metadata": {},
   "outputs": [],
   "source": [
    "x_test = test['x'].values\n",
    "y_test = test['y'].values"
   ]
  },
  {
   "cell_type": "code",
   "execution_count": 21,
   "metadata": {},
   "outputs": [],
   "source": [
    "x_test = (x_test-x_test.mean())/x_test.std()"
   ]
  },
  {
   "cell_type": "code",
   "execution_count": 22,
   "metadata": {},
   "outputs": [
    {
     "data": {
      "image/png": "[encoded data removed]",
      "text/plain": [
       "<Figure size 432x288 with 1 Axes>"
      ]
     },
     "metadata": {
      "needs_background": "light"
     },
     "output_type": "display_data"
    }
   ],
   "source": [
    "Y_ = hypothesis(x_test,theta)\n",
    "plt.scatter(x_test,y_test)\n",
    "plt.plot(x_test,Y_,color = 'red')\n",
    "plt.show()"
   ]
  },
  {
   "cell_type": "code",
   "execution_count": 24,
   "metadata": {},
   "outputs": [
    {
     "data": {
      "text/plain": [
       "array([49.9385427 , 28.95206401])"
      ]
     },
     "execution_count": 24,
     "metadata": {},
     "output_type": "execute_result"
    }
   ],
   "source": [
    "theta"
   ]
  },
  {
   "cell_type": "code",
   "execution_count": null,
   "metadata": {},
   "outputs": [],
   "source": []
  },
  {
   "cell_type": "code",
   "execution_count": 49,
   "metadata": {},
   "outputs": [],
   "source": [
    "T0 = np.arange(0,80,1)\n",
    "T1 = np.arange(-10,70,1)"
   ]
  },
  {
   "cell_type": "code",
   "execution_count": 51,
   "metadata": {},
   "outputs": [
    {
     "data": {
      "text/plain": [
       "(80,)"
      ]
     },
     "execution_count": 51,
     "metadata": {},
     "output_type": "execute_result"
    }
   ],
   "source": [
    "T0.shape"
   ]
  },
  {
   "cell_type": "code",
   "execution_count": 52,
   "metadata": {},
   "outputs": [],
   "source": [
    "T0,T1 = np.meshgrid(T0,T1)\n"
   ]
  },
  {
   "cell_type": "code",
   "execution_count": 53,
   "metadata": {},
   "outputs": [
    {
     "data": {
      "text/plain": [
       "(80, 80)"
      ]
     },
     "execution_count": 53,
     "metadata": {},
     "output_type": "execute_result"
    }
   ],
   "source": [
    "T0.shape"
   ]
  },
  {
   "cell_type": "code",
   "execution_count": 54,
   "metadata": {},
   "outputs": [
    {
     "data": {
      "text/plain": [
       "array([[ 0,  1,  2, ..., 77, 78, 79],\n",
       "       [ 0,  1,  2, ..., 77, 78, 79],\n",
       "       [ 0,  1,  2, ..., 77, 78, 79],\n",
       "       ...,\n",
       "       [ 0,  1,  2, ..., 77, 78, 79],\n",
       "       [ 0,  1,  2, ..., 77, 78, 79],\n",
       "       [ 0,  1,  2, ..., 77, 78, 79]])"
      ]
     },
     "execution_count": 54,
     "metadata": {},
     "output_type": "execute_result"
    }
   ],
   "source": [
    "T0"
   ]
  },
  {
   "cell_type": "code",
   "execution_count": 55,
   "metadata": {},
   "outputs": [
    {
     "data": {
      "text/plain": [
       "array([[-10, -10, -10, ..., -10, -10, -10],\n",
       "       [ -9,  -9,  -9, ...,  -9,  -9,  -9],\n",
       "       [ -8,  -8,  -8, ...,  -8,  -8,  -8],\n",
       "       ...,\n",
       "       [ 67,  67,  67, ...,  67,  67,  67],\n",
       "       [ 68,  68,  68, ...,  68,  68,  68],\n",
       "       [ 69,  69,  69, ...,  69,  69,  69]])"
      ]
     },
     "execution_count": 55,
     "metadata": {},
     "output_type": "execute_result"
    }
   ],
   "source": [
    "T1"
   ]
  },
  {
   "cell_type": "code",
   "execution_count": 56,
   "metadata": {},
   "outputs": [],
   "source": [
    "J = np.zeros(T0.shape)\n",
    "m = x_train.shape[0]\n",
    "for i in range(J.shape[0]):\n",
    "    for j in range(J.shape[0]):\n",
    "        y_ = T0[i,j]+T1[i,j]*x_train\n",
    "        J[i,j] = np.sum((y_-y_train)**2)/m"
   ]
  },
  {
   "cell_type": "code",
   "execution_count": null,
   "metadata": {},
   "outputs": [],
   "source": [
    "from mpl_toolkits.mplot3d import Axes3D"
   ]
  },
  {
   "cell_type": "code",
   "execution_count": 62,
   "metadata": {},
   "outputs": [
    {
     "data": {
      "image/png": "[encoded data removed]",
      "text/plain": [
       "<Figure size 432x288 with 1 Axes>"
      ]
     },
     "metadata": {
      "needs_background": "light"
     },
     "output_type": "display_data"
    }
   ],
   "source": [
    "theta_list = np.array(theta_list)\n",
    "fig = plt.figure()\n",
    "axes = fig.gca(projection = '3d')\n",
    "axes.contour(T0,T1,J,cmap = 'rainbow')\n",
    "axes.scatter(theta_list[:,0],theta_list[:,1],error_list)\n",
    "plt.show()"
   ]
  },
  {
   "cell_type": "code",
   "execution_count": 64,
   "metadata": {},
   "outputs": [
    {
     "data": {
      "text/plain": [
       "<function matplotlib.pyplot.show(*args, **kw)>"
      ]
     },
     "execution_count": 64,
     "metadata": {},
     "output_type": "execute_result"
    },
    {
     "data": {
      "image/png": "[encoded data removed]",
      "text/plain": [
       "<Figure size 432x288 with 1 Axes>"
      ]
     },
     "metadata": {
      "needs_background": "light"
     },
     "output_type": "display_data"
    }
   ],
   "source": [
    "plt.contour(T0,T1,J,cmap = 'rainbow')\n",
    "plt.scatter(theta_list[:,0],theta_list[:,1])\n",
    "plt.show"
   ]
  },
  {
   "cell_type": "code",
   "execution_count": null,
   "metadata": {},
   "outputs": [],
   "source": []
  }
 ],
 "metadata": {
  "kernelspec": {
   "display_name": "Python 3",
   "language": "python",
   "name": "python3"
  },
  "language_info": {
   "codemirror_mode": {
    "name": "ipython",
    "version": 3
   },
   "file_extension": ".py",
   "mimetype": "text/x-python",
   "name": "python",
   "nbconvert_exporter": "python",
   "pygments_lexer": "ipython3",
   "version": "3.6.8"
  }
 },
 "nbformat": 4,
 "nbformat_minor": 2
}
